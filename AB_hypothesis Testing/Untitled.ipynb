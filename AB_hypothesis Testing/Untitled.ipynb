{
 "cells": [
  {
   "cell_type": "code",
   "execution_count": 2,
   "metadata": {},
   "outputs": [],
   "source": [
    "import pandas as pd"
   ]
  },
  {
   "cell_type": "code",
   "execution_count": 3,
   "metadata": {},
   "outputs": [],
   "source": [
    "data = pd.read_csv(\"../data/AdSmartABdata.csv\")"
   ]
  },
  {
   "cell_type": "code",
   "execution_count": 4,
   "metadata": {},
   "outputs": [
    {
     "data": {
      "text/html": [
       "<div>\n",
       "<style scoped>\n",
       "    .dataframe tbody tr th:only-of-type {\n",
       "        vertical-align: middle;\n",
       "    }\n",
       "\n",
       "    .dataframe tbody tr th {\n",
       "        vertical-align: top;\n",
       "    }\n",
       "\n",
       "    .dataframe thead th {\n",
       "        text-align: right;\n",
       "    }\n",
       "</style>\n",
       "<table border=\"1\" class=\"dataframe\">\n",
       "  <thead>\n",
       "    <tr style=\"text-align: right;\">\n",
       "      <th></th>\n",
       "      <th>auction_id</th>\n",
       "      <th>experiment</th>\n",
       "      <th>date</th>\n",
       "      <th>hour</th>\n",
       "      <th>device_make</th>\n",
       "      <th>platform_os</th>\n",
       "      <th>browser</th>\n",
       "      <th>yes</th>\n",
       "      <th>no</th>\n",
       "    </tr>\n",
       "  </thead>\n",
       "  <tbody>\n",
       "    <tr>\n",
       "      <th>0</th>\n",
       "      <td>0008ef63-77a7-448b-bd1e-075f42c55e39</td>\n",
       "      <td>exposed</td>\n",
       "      <td>2020-07-10</td>\n",
       "      <td>8</td>\n",
       "      <td>Generic Smartphone</td>\n",
       "      <td>6</td>\n",
       "      <td>Chrome Mobile</td>\n",
       "      <td>0</td>\n",
       "      <td>0</td>\n",
       "    </tr>\n",
       "    <tr>\n",
       "      <th>1</th>\n",
       "      <td>000eabc5-17ce-4137-8efe-44734d914446</td>\n",
       "      <td>exposed</td>\n",
       "      <td>2020-07-07</td>\n",
       "      <td>10</td>\n",
       "      <td>Generic Smartphone</td>\n",
       "      <td>6</td>\n",
       "      <td>Chrome Mobile</td>\n",
       "      <td>0</td>\n",
       "      <td>0</td>\n",
       "    </tr>\n",
       "    <tr>\n",
       "      <th>2</th>\n",
       "      <td>0016d14a-ae18-4a02-a204-6ba53b52f2ed</td>\n",
       "      <td>exposed</td>\n",
       "      <td>2020-07-05</td>\n",
       "      <td>2</td>\n",
       "      <td>E5823</td>\n",
       "      <td>6</td>\n",
       "      <td>Chrome Mobile WebView</td>\n",
       "      <td>0</td>\n",
       "      <td>1</td>\n",
       "    </tr>\n",
       "    <tr>\n",
       "      <th>3</th>\n",
       "      <td>00187412-2932-4542-a8ef-3633901c98d9</td>\n",
       "      <td>control</td>\n",
       "      <td>2020-07-03</td>\n",
       "      <td>15</td>\n",
       "      <td>Samsung SM-A705FN</td>\n",
       "      <td>6</td>\n",
       "      <td>Facebook</td>\n",
       "      <td>0</td>\n",
       "      <td>0</td>\n",
       "    </tr>\n",
       "    <tr>\n",
       "      <th>4</th>\n",
       "      <td>001a7785-d3fe-4e11-a344-c8735acacc2c</td>\n",
       "      <td>control</td>\n",
       "      <td>2020-07-03</td>\n",
       "      <td>15</td>\n",
       "      <td>Generic Smartphone</td>\n",
       "      <td>6</td>\n",
       "      <td>Chrome Mobile</td>\n",
       "      <td>0</td>\n",
       "      <td>0</td>\n",
       "    </tr>\n",
       "  </tbody>\n",
       "</table>\n",
       "</div>"
      ],
      "text/plain": [
       "                             auction_id experiment        date  hour  \\\n",
       "0  0008ef63-77a7-448b-bd1e-075f42c55e39    exposed  2020-07-10     8   \n",
       "1  000eabc5-17ce-4137-8efe-44734d914446    exposed  2020-07-07    10   \n",
       "2  0016d14a-ae18-4a02-a204-6ba53b52f2ed    exposed  2020-07-05     2   \n",
       "3  00187412-2932-4542-a8ef-3633901c98d9    control  2020-07-03    15   \n",
       "4  001a7785-d3fe-4e11-a344-c8735acacc2c    control  2020-07-03    15   \n",
       "\n",
       "          device_make  platform_os                browser  yes  no  \n",
       "0  Generic Smartphone            6          Chrome Mobile    0   0  \n",
       "1  Generic Smartphone            6          Chrome Mobile    0   0  \n",
       "2               E5823            6  Chrome Mobile WebView    0   1  \n",
       "3   Samsung SM-A705FN            6               Facebook    0   0  \n",
       "4  Generic Smartphone            6          Chrome Mobile    0   0  "
      ]
     },
     "execution_count": 4,
     "metadata": {},
     "output_type": "execute_result"
    }
   ],
   "source": [
    "data.head()"
   ]
  },
  {
   "cell_type": "code",
   "execution_count": 5,
   "metadata": {},
   "outputs": [
    {
     "data": {
      "text/plain": [
       "array(['Generic Smartphone', 'E5823', 'Samsung SM-A705FN',\n",
       "       'Samsung SM-G960F', 'Samsung SM-G973F', 'iPhone',\n",
       "       'Samsung SM-G935F', 'HTC One', 'LG-$2', 'Samsung SM-A202F',\n",
       "       'XT1032', 'COL-L29', 'Samsung SM-N960U1', 'Samsung SM-A715F',\n",
       "       'Samsung SM-G930F', 'I3312', 'Samsung SM-G950F', 'FIG-LX1',\n",
       "       'Samsung SM-G920F', 'MRD-LX1', 'Samsung SM-N950F', 'Moto $2',\n",
       "       'Samsung SM-G970F', 'Samsung GT-I9505', 'Samsung SM-G981B',\n",
       "       'Pixel 3a', 'Samsung SM-J600FN', 'Samsung SM-A105FN',\n",
       "       'OnePlus ONEPLUS A3003', 'POT-LX1', 'Samsung SM-G975F',\n",
       "       'Samsung SM-J330FN', 'Samsung SM-G770F', 'H3311', 'MAR-LX1A',\n",
       "       'HTC One $2', 'Samsung SM-G965F', 'ELE-L09', 'Samsung SM-J415FN',\n",
       "       'Samsung SM-G900F', 'Lenovo A1010a20', 'CLT-L09', 'HTC Desire $2',\n",
       "       'Samsung SM-G980F', 'Samsung SM-G955F', 'Samsung SM-N960F',\n",
       "       'Nexus 5', 'Samsung SM-J260F', 'HTC U11', 'Samsung SM-A405FN',\n",
       "       'Samsung SM-A600FN', 'ANE-LX1', 'VOG-L09', 'Samsung SM-G986B',\n",
       "       'XiaoMi Redmi Note 4', 'ELE-L29', 'Samsung $2',\n",
       "       'Samsung SM-A320FL', 'OnePlus ONEPLUS A5000', 'Samsung SM-A505FN',\n",
       "       'Nokia undefined$2$3', 'Samsung SM-A750FN', 'Samsung SM-A310F',\n",
       "       'Samsung SM-A520F', 'OnePlus ONEPLUS A5010', 'Samsung SM-N975F',\n",
       "       'Pixel 4', 'LYA-L09', 'Samsung SM-G988B', 'VOG-L29',\n",
       "       'Samsung SM-N976B', '5008Y_EEA', 'CLT-L29', 'PRA-LX1',\n",
       "       'Samsung SM-J320FN', 'Samsung SM-J530F', 'Samsung SM-A530F',\n",
       "       'BKL-L09', 'Pixel 3', 'Samsung SM-A515F', 'Nokia$2$3', 'F8331',\n",
       "       'Samsung SM-A300FU', 'Samsung SM-G390F', 'VFD 710',\n",
       "       'XiaoMi Redmi 6', 'Samsung SM-G901F', 'OnePlus ONEPLUS A6003',\n",
       "       'Samsung SM-A500FU', 'Samsung SM-G900V', 'SNE-LX1', 'STF-L09',\n",
       "       'HTC 10', 'Samsung SM-J510FN', 'Samsung SM-J610FN', 'S8',\n",
       "       'XiaoMi Redmi Note 7', 'Samsung SM-G800F', 'EML-L09',\n",
       "       'Samsung SM-N970F', 'Huawei Browser', 'OnePlus ONEPLUS A6013',\n",
       "       'Samsung GT-I8200N', 'Samsung SM-A920F', 'NEM-L51',\n",
       "       'Samsung SM-G570F', 'Samsung SM-G925F', 'VFD 820', 'Asus I01WD',\n",
       "       'HUAWEI $2', 'OnePlus ONEPLUS A6000', 'Samsung SM-J710F',\n",
       "       'Samsung SM-G928F', 'XiaoMi Redmi 8', 'H3113', 'DUB-LX1',\n",
       "       'Pixel 2', 'Samsung GT-I9195', 'WAS-LX1A', 'F5321',\n",
       "       'XiaoMi MI 8 Pro', 'EVA-L09', 'Samsung SM-J730F', 'LYA-L29',\n",
       "       'VFD 500', 'YAL-L21', 'HTC U12+', 'Samsung SM-J330G',\n",
       "       'XiaoMi MI 8', 'Samsung undefined$2', 'G3311', 'G3121', 'DUA-L22',\n",
       "       'Samsung SM-G950U1', 'Samsung SM-G850F', 'Samsung GT-I9505 ',\n",
       "       'Samsung SM-A107F', 'BBB100-2', 'VFD 610', 'XiaoMi Redmi 6A',\n",
       "       '5099Y', 'Samsung SM-F907B', 'Samsung SM-N9500', 'D5503',\n",
       "       'Samsung SM-G977B', 'Lumia 950', 'Samsung GT-P5210 ', 'COR-L29',\n",
       "       'LDN-L01', 'Samsung SM-J710MN', 'Lenovo A7020a48',\n",
       "       'Samsung SM-G965U1', 'Samsung SM-N910F', 'CUBOT_X18_Plus',\n",
       "       'Samsung SM-A507FN', 'BLA-L09', 'Samsung SM-G900T', 'VTR-L09',\n",
       "       'Samsung SM-J500FN', 'moto e5 play', 'A0001', 'PCT-L29',\n",
       "       'Samsung SM-G925I', 'HTC M10h', 'Vodafone $2', 'Samsung SM-G6100',\n",
       "       'D5803', 'Samsung SM-A505F', 'Samsung SM-G986U1',\n",
       "       'Samsung SM-N9750', 'D6603', 'VFD 700', '6039Y',\n",
       "       'Samsung SM-N920I', 'Samsung SM-G950U', 'XiaoMi Redmi Note 8T',\n",
       "       'Samsung SM-G935U', 'Samsung SM-A105G', 'OnePlus ONE A2003',\n",
       "       'Samsung GT-I9195I', 'C2105', 'ALE-L21', 'Samsung SM-G930L',\n",
       "       'XT1580', 'Samsung SM-G973U', 'XiaoMi Redmi Note 8 Pro',\n",
       "       'Samsung SM-A015M', 'Samsung SM-G388F', 'Samsung SM-N976V',\n",
       "       'VFD 720', 'Samsung SM-G930U', 'EVR-N29', 'XiaoMi Redmi Note 8',\n",
       "       'F3111', 'EML-L29', 'Samsung SM-G610F', 'Samsung SM-A305F',\n",
       "       'Samsung SM-J701F', 'Samsung SM-A510F', 'IMO $2', 'Pixel XL',\n",
       "       'Samsung SM-A415F', 'Samsung SM-A217F', 'Samsung SM-A908B',\n",
       "       'BBF100-1', 'HTC U11 $2', 'E6653', 'Samsung SM-G903F', 'VKY-L09',\n",
       "       'Samsung SM-A207F', 'XiaoMi MI MAX 3', 'F3311', 'Lenovo P2a42',\n",
       "       'Samsung SM-A205G', 'Samsung SM-A605F', 'VF-795', 'VF-895N',\n",
       "       'Samsung SM-A605G', 'D6503', 'Armor_3', 'FRD-L09', 'TA-1033',\n",
       "       'Doro 8030', 'moto e5 plus', 'Samsung SM-J250F',\n",
       "       'Samsung SM-C9000', 'Moto$2', 'Samsung SM-A105F', 'ATU-L11',\n",
       "       'Samsung SM-N770F', 'TA-1020', 'DLI-L22', 'Samsung SM-A805F',\n",
       "       'XiaoMi Redmi Note 6 Pro', 'Samsung SM-G955U', 'Samsung GT-I9300',\n",
       "       'C6903', 'RNE-L21', 'Samsung SM-G361F', 'G3221',\n",
       "       'Samsung SM-G930T', 'Samsung SM-J510GN', 'Samsung SM-A700F',\n",
       "       'CPH1851', 'X13', 'OnePlus ONE E1003', 'Samsung SM-J810F',\n",
       "       'TA-1024', 'OnePlus ONEPLUS A3000', 'XiaoMi Redmi 3S', 'MHA-L09',\n",
       "       'XiaoMi MI 6', 'K7', 'Swift 2 Plus', 'X4_Soul_Infinity_Z',\n",
       "       'Samsung SM-G960U1', 'Wileyfox Swift', 'Samsung SM-J330F',\n",
       "       'PLK-L01', 'Samsung SM-A750GN', 'Samsung SM-G930V',\n",
       "       'XiaoMi Redmi 5 Plus', 'Samsung SM-J610G', 'VCE-L22',\n",
       "       'Samsung SM-G960U', 'Samsung SM-G9730', 'Samsung SM-G955U1',\n",
       "       'XiaoMi Redmi S2', 'Samsung SM-A205F', 'XiaoMi Redmi Note 5'],\n",
       "      dtype=object)"
      ]
     },
     "execution_count": 5,
     "metadata": {},
     "output_type": "execute_result"
    }
   ],
   "source": [
    "data['device_make'].unique()"
   ]
  },
  {
   "cell_type": "code",
   "execution_count": 6,
   "metadata": {},
   "outputs": [
    {
     "data": {
      "text/plain": [
       "auction_id     0\n",
       "experiment     0\n",
       "date           0\n",
       "hour           0\n",
       "device_make    0\n",
       "platform_os    0\n",
       "browser        0\n",
       "yes            0\n",
       "no             0\n",
       "dtype: int64"
      ]
     },
     "execution_count": 6,
     "metadata": {},
     "output_type": "execute_result"
    }
   ],
   "source": [
    "data.isnull().sum()"
   ]
  },
  {
   "cell_type": "code",
   "execution_count": null,
   "metadata": {},
   "outputs": [],
   "source": []
  }
 ],
 "metadata": {
  "kernelspec": {
   "display_name": "Python 3",
   "language": "python",
   "name": "python3"
  },
  "language_info": {
   "codemirror_mode": {
    "name": "ipython",
    "version": 3
   },
   "file_extension": ".py",
   "mimetype": "text/x-python",
   "name": "python",
   "nbconvert_exporter": "python",
   "pygments_lexer": "ipython3",
   "version": "3.7.1"
  }
 },
 "nbformat": 4,
 "nbformat_minor": 2
}
